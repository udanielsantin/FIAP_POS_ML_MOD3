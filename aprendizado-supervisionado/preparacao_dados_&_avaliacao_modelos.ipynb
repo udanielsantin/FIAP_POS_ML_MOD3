{
 "cells": [
  {
   "cell_type": "code",
   "execution_count": 1,
   "id": "b2feb105",
   "metadata": {},
   "outputs": [],
   "source": [
    "# Preparação de Dados e Avaliação de Modelos"
   ]
  },
  {
   "cell_type": "code",
   "execution_count": 2,
   "id": "9cdea045",
   "metadata": {},
   "outputs": [],
   "source": [
    "import pandas as pd \n",
    "import numpy as np \n",
    "import matplotlib.pyplot as plt \n"
   ]
  },
  {
   "cell_type": "code",
   "execution_count": 3,
   "id": "558af981",
   "metadata": {},
   "outputs": [
    {
     "name": "stdout",
     "output_type": "stream",
     "text": [
      "     Nome  Idade Sexo\n",
      "0     Ana   28.0    F\n",
      "1   Bruno    NaN    M\n",
      "2  Carlos   34.0    M\n"
     ]
    }
   ],
   "source": [
    "# Criando um DataFrame de exemplo com um valor NA\n",
    "df = pd.DataFrame({\n",
    "    'Nome': ['Ana', 'Bruno', 'Carlos'],\n",
    "    'Idade': [28, np.nan, 34],\n",
    "    'Sexo': ['F', 'M', 'M']\n",
    "})\n",
    "print(df)"
   ]
  },
  {
   "cell_type": "code",
   "execution_count": 4,
   "id": "2698f180",
   "metadata": {},
   "outputs": [
    {
     "data": {
      "text/html": [
       "<div>\n",
       "<style scoped>\n",
       "    .dataframe tbody tr th:only-of-type {\n",
       "        vertical-align: middle;\n",
       "    }\n",
       "\n",
       "    .dataframe tbody tr th {\n",
       "        vertical-align: top;\n",
       "    }\n",
       "\n",
       "    .dataframe thead th {\n",
       "        text-align: right;\n",
       "    }\n",
       "</style>\n",
       "<table border=\"1\" class=\"dataframe\">\n",
       "  <thead>\n",
       "    <tr style=\"text-align: right;\">\n",
       "      <th></th>\n",
       "      <th>Nome</th>\n",
       "      <th>Idade</th>\n",
       "      <th>Sexo</th>\n",
       "    </tr>\n",
       "  </thead>\n",
       "  <tbody>\n",
       "    <tr>\n",
       "      <th>0</th>\n",
       "      <td>Ana</td>\n",
       "      <td>28.0</td>\n",
       "      <td>F</td>\n",
       "    </tr>\n",
       "    <tr>\n",
       "      <th>2</th>\n",
       "      <td>Carlos</td>\n",
       "      <td>34.0</td>\n",
       "      <td>M</td>\n",
       "    </tr>\n",
       "  </tbody>\n",
       "</table>\n",
       "</div>"
      ],
      "text/plain": [
       "     Nome  Idade Sexo\n",
       "0     Ana   28.0    F\n",
       "2  Carlos   34.0    M"
      ]
     },
     "execution_count": 4,
     "metadata": {},
     "output_type": "execute_result"
    }
   ],
   "source": [
    "df.dropna()"
   ]
  },
  {
   "cell_type": "code",
   "execution_count": 5,
   "id": "65ce796a",
   "metadata": {},
   "outputs": [
    {
     "data": {
      "text/html": [
       "<div>\n",
       "<style scoped>\n",
       "    .dataframe tbody tr th:only-of-type {\n",
       "        vertical-align: middle;\n",
       "    }\n",
       "\n",
       "    .dataframe tbody tr th {\n",
       "        vertical-align: top;\n",
       "    }\n",
       "\n",
       "    .dataframe thead th {\n",
       "        text-align: right;\n",
       "    }\n",
       "</style>\n",
       "<table border=\"1\" class=\"dataframe\">\n",
       "  <thead>\n",
       "    <tr style=\"text-align: right;\">\n",
       "      <th></th>\n",
       "      <th>Nome</th>\n",
       "      <th>Idade</th>\n",
       "      <th>Sexo</th>\n",
       "    </tr>\n",
       "  </thead>\n",
       "  <tbody>\n",
       "    <tr>\n",
       "      <th>0</th>\n",
       "      <td>Ana</td>\n",
       "      <td>28.0</td>\n",
       "      <td>F</td>\n",
       "    </tr>\n",
       "    <tr>\n",
       "      <th>1</th>\n",
       "      <td>Bruno</td>\n",
       "      <td>NaN</td>\n",
       "      <td>M</td>\n",
       "    </tr>\n",
       "    <tr>\n",
       "      <th>2</th>\n",
       "      <td>Carlos</td>\n",
       "      <td>34.0</td>\n",
       "      <td>M</td>\n",
       "    </tr>\n",
       "  </tbody>\n",
       "</table>\n",
       "</div>"
      ],
      "text/plain": [
       "     Nome  Idade Sexo\n",
       "0     Ana   28.0    F\n",
       "1   Bruno    NaN    M\n",
       "2  Carlos   34.0    M"
      ]
     },
     "execution_count": 5,
     "metadata": {},
     "output_type": "execute_result"
    }
   ],
   "source": [
    "df"
   ]
  },
  {
   "cell_type": "code",
   "execution_count": 6,
   "id": "ecec5314",
   "metadata": {},
   "outputs": [],
   "source": [
    "df.dropna(inplace=True)"
   ]
  },
  {
   "cell_type": "markdown",
   "id": "f0ea6933",
   "metadata": {},
   "source": [
    "## RSME e MAPE\n"
   ]
  },
  {
   "cell_type": "code",
   "execution_count": null,
   "id": "cb1a13e9",
   "metadata": {},
   "outputs": [
    {
     "name": "stdout",
     "output_type": "stream",
     "text": [
      "MSE: 87800000.0\n",
      "RMSE: 9370.165420097983\n"
     ]
    }
   ],
   "source": [
    "# RMSE sem o sckit-learn\n",
    "# Valores reais\n",
    "reais = [100000, 150000, 200000, 250000, 300000]\n",
    " \n",
    "# Valores previstos pelo modelo\n",
    "prev = [95000, 142000, 210000, 245000, 315000]\n",
    " \n",
    "# Cálculo do RMSE\n",
    "diferencas = [r - p for r, p in zip(reais, prev)]\n",
    "quadrados_das_diferencas = [d ** 2 for d in diferencas]\n",
    "mse = np.mean(quadrados_das_diferencas)\n",
    "rmse = np.sqrt(mse)\n",
    " \n",
    "print(f\"MSE: {mse}\\nRMSE: {rmse}\")"
   ]
  },
  {
   "cell_type": "code",
   "execution_count": 9,
   "id": "b40b95c1",
   "metadata": {},
   "outputs": [
    {
     "name": "stdout",
     "output_type": "stream",
     "text": [
      "MSE: 87800000.0\n",
      "RMSE: 9370.165420097983\n"
     ]
    }
   ],
   "source": [
    "# RMSE com scikit-learn and built-in functions\n",
    "from sklearn.metrics import mean_squared_error\n",
    "\n",
    "# Valores reais\n",
    "reais = [100000, 150000, 200000, 250000, 300000]\n",
    " \n",
    "# Valores previstos pelo modelo\n",
    "prev = [95000, 142000, 210000, 245000, 315000]\n",
    "\n",
    "mse = mean_squared_error(reais, prev)\n",
    "rmse = np.sqrt(mse)\n",
    "\n",
    "print(f\"MSE: {mse}\\nRMSE: {rmse}\")"
   ]
  },
  {
   "cell_type": "code",
   "execution_count": null,
   "id": "c886ed9e",
   "metadata": {},
   "outputs": [],
   "source": [
    "# MAPE sem scikit-learn \n",
    " "
   ]
  }
 ],
 "metadata": {
  "kernelspec": {
   "display_name": "venv (3.12.1)",
   "language": "python",
   "name": "python3"
  },
  "language_info": {
   "codemirror_mode": {
    "name": "ipython",
    "version": 3
   },
   "file_extension": ".py",
   "mimetype": "text/x-python",
   "name": "python",
   "nbconvert_exporter": "python",
   "pygments_lexer": "ipython3",
   "version": "3.12.1"
  }
 },
 "nbformat": 4,
 "nbformat_minor": 5
}
